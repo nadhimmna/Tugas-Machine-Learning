{
  "nbformat": 4,
  "nbformat_minor": 0,
  "metadata": {
    "colab": {
      "provenance": [],
      "authorship_tag": "ABX9TyOI70W+zNMytU6LeM3eF3ux",
      "include_colab_link": true
    },
    "kernelspec": {
      "name": "python3",
      "display_name": "Python 3"
    },
    "language_info": {
      "name": "python"
    }
  },
  "cells": [
    {
      "cell_type": "markdown",
      "metadata": {
        "id": "view-in-github",
        "colab_type": "text"
      },
      "source": [
        "<a href=\"https://colab.research.google.com/github/nadhimmna/Tugas-Machine-Learning/blob/main/Tugas%20Minggu%2011/Tugas_minggu_11_CIFAR10_CNN.ipynb\" target=\"_parent\"><img src=\"https://colab.research.google.com/assets/colab-badge.svg\" alt=\"Open In Colab\"/></a>"
      ]
    },
    {
      "cell_type": "markdown",
      "source": [
        "* Nama       : Muhammad Nadhim Abdirrahman\n",
        "* NIM        : 1103210018\n",
        "* Model      : CIFAR10 CNN"
      ],
      "metadata": {
        "id": "ymwfVf_04QNz"
      }
    },
    {
      "cell_type": "code",
      "execution_count": 34,
      "metadata": {
        "id": "-Oer_3Ig3mqR"
      },
      "outputs": [],
      "source": [
        "%matplotlib inline"
      ]
    },
    {
      "cell_type": "code",
      "source": [
        "import torch  # Mengimpor pustaka PyTorch, yang merupakan pustaka machine learning berbasis tensor yang digunakan untuk deep learning.\n",
        "import torchvision  # Mengimpor pustaka torchvision, yang menyediakan dataset, model, dan transformasi gambar yang umum digunakan untuk visi komputer.\n",
        "import torchvision.transforms as transforms  # Mengimpor modul transforms dari torchvision dan memberi alias 'transforms'."
      ],
      "metadata": {
        "id": "_j45rIyQ4w1J"
      },
      "execution_count": 35,
      "outputs": []
    },
    {
      "cell_type": "code",
      "source": [
        "transform = transforms.Compose(  # Menggabungkan beberapa transformasi menjadi satu.\n",
        "    [transforms.ToTensor(),  # Mengubah gambar menjadi tensor.\n",
        "     transforms.Normalize((0.5, 0.5, 0.5), (0.5, 0.5, 0.5))])  # Menormalisasi tensor dengan mean dan std dev sebesar 0.5.\n",
        "\n",
        "batch_size = 4  # Menentukan ukuran batch untuk pelatihan dan pengujian.\n",
        "trainset = torchvision.datasets.CIFAR10(root='./data', train=True, download=True, transform=transform)  # Mengunduh dan memuat dataset CIFAR-10 untuk pelatihan.\n",
        "trainloader = torch.utils.data.DataLoader(trainset, batch_size=batch_size, shuffle=True, num_workers=2)  # Membuat DataLoader untuk trainset dengan shuffling.\n",
        "testset = torchvision.datasets.CIFAR10(root='./data', train=False, download=True, transform=transform)  # Mengunduh dan memuat dataset CIFAR-10 untuk pengujian.\n",
        "testloader = torch.utils.data.DataLoader(testset, batch_size=batch_size, shuffle=False, num_workers=2)  # Membuat DataLoader untuk testset tanpa shuffling.\n",
        "\n",
        "classes = ('plane', 'car', 'bird', 'cat',  # Mendefinisikan label kelas untuk dataset CIFAR-10.\n",
        "           'deer', 'dog', 'frog', 'horse', 'ship', 'truck')"
      ],
      "metadata": {
        "colab": {
          "base_uri": "https://localhost:8080/"
        },
        "id": "vVtZ71St42sq",
        "outputId": "03bebeb0-c631-4799-ef5f-3a8dc61b0e5d"
      },
      "execution_count": 36,
      "outputs": [
        {
          "output_type": "stream",
          "name": "stdout",
          "text": [
            "Files already downloaded and verified\n",
            "Files already downloaded and verified\n"
          ]
        }
      ]
    },
    {
      "cell_type": "code",
      "source": [
        "import matplotlib.pyplot as plt  # Mengimpor pustaka matplotlib untuk membuat plot dan visualisasi.\n",
        "import numpy as np  # Mengimpor pustaka NumPy untuk operasi array.\n",
        "\n",
        "# Fungsi untuk menampilkan gambar\n",
        "def imshow(img):\n",
        "    img = img / 2 + 0.5  # Menghilangkan normalisasi dari gambar (unnormalize).\n",
        "    npimg = img.numpy()  # Mengubah tensor menjadi array NumPy.\n",
        "    plt.imshow(np.transpose(npimg, (1, 2, 0)))  # Menampilkan gambar dengan transposisi dimensi yang benar.\n",
        "    plt.show()  # Menampilkan plot.\n",
        "\n",
        "# Mengambil beberapa gambar pelatihan secara acak\n",
        "dataiter = iter(trainloader)  # Membuat iterator untuk trainloader.\n",
        "images, labels = next(dataiter)  # Mendapatkan batch gambar dan label berikutnya dari iterator.\n",
        "\n",
        "# Menampilkan gambar\n",
        "imshow(torchvision.utils.make_grid(images))  # Membuat grid dari beberapa gambar dan menampilkannya menggunakan imshow.\n",
        "\n",
        "# Mencetak label\n",
        "print(' '.join(f'{classes[labels[j]]:5s}' for j in range(batch_size)))  # Mencetak label kelas untuk setiap gambar dalam batch."
      ],
      "metadata": {
        "colab": {
          "base_uri": "https://localhost:8080/",
          "height": 210
        },
        "id": "9HcI1jMs5CnC",
        "outputId": "ae10af59-90d5-4267-ba06-8278f857e9c3"
      },
      "execution_count": 37,
      "outputs": [
        {
          "output_type": "display_data",
          "data": {
            "text/plain": [
              "<Figure size 640x480 with 1 Axes>"
            ],
            "image/png": "[encoded data removed]"
          },
          "metadata": {}
        },
        {
          "output_type": "stream",
          "name": "stdout",
          "text": [
            "frog  cat   deer  horse\n"
          ]
        }
      ]
    },
    {
      "cell_type": "code",
      "source": [
        "import torch.nn as nn  # Mengimpor modul neural network dari PyTorch.\n",
        "import torch.nn.functional as F  # Mengimpor modul fungsi-fungsi yang sering digunakan dalam neural network.\n",
        "\n",
        "class Net(nn.Module):  # Mendefinisikan kelas Net yang merupakan subclass dari nn.Module.\n",
        "    def __init__(self):  # Konstruktor untuk inisialisasi layer jaringan.\n",
        "        super().__init__()  # Memanggil konstruktor dari nn.Module.\n",
        "        self.conv1 = nn.Conv2d(3, 6, 5)  # Mendefinisikan convolutional layer pertama (input 3 channel, output 6 channel, kernel size 5x5).\n",
        "        self.pool = nn.MaxPool2d(2, 2)  # Mendefinisikan max pooling layer dengan ukuran kernel 2x2 dan stride 2.\n",
        "        self.conv2 = nn.Conv2d(6, 16, 5)  # Mendefinisikan convolutional layer kedua (input 6 channel, output 16 channel, kernel size 5x5).\n",
        "        self.fc1 = nn.Linear(16 * 5 * 5, 120)  # Mendefinisikan fully connected layer pertama (input 16*5*5 neuron, output 120 neuron).\n",
        "        self.fc2 = nn.Linear(120, 84)  # Mendefinisikan fully connected layer kedua (input 120 neuron, output 84 neuron).\n",
        "        self.fc3 = nn.Linear(84, 10)  # Mendefinisikan fully connected layer ketiga (input 84 neuron, output 10 neuron).\n",
        "\n",
        "    def forward(self, x):  # Mendefinisikan forward pass jaringan.\n",
        "        x = self.pool(F.relu(self.conv1(x)))  # Menerapkan conv1, ReLU, dan pooling pada input x.\n",
        "        x = self.pool(F.relu(self.conv2(x)))  # Menerapkan conv2, ReLU, dan pooling.\n",
        "        x = torch.flatten(x, 1)  # Flattening tensor kecuali untuk dimensi batch.\n",
        "        x = F.relu(self.fc1(x))  # Menerapkan fc1 dan ReLU.\n",
        "        x = F.relu(self.fc2(x))  # Menerapkan fc2 dan ReLU.\n",
        "        x = self.fc3(x)  # Menerapkan fc3.\n",
        "        return x  # Mengembalikan output akhir.\n",
        "\n",
        "net = Net()  # Membuat instance dari jaringan Net."
      ],
      "metadata": {
        "id": "iJM_hs6B5E8i"
      },
      "execution_count": 38,
      "outputs": []
    },
    {
      "cell_type": "code",
      "source": [
        "import torch.optim as optim  # Mengimpor modul optimisasi dari PyTorch.\n",
        "\n",
        "criterion = nn.CrossEntropyLoss()  # Mendefinisikan fungsi loss sebagai Cross-Entropy Loss, yang umum digunakan untuk klasifikasi.\n",
        "optimizer = optim.SGD(net.parameters(), lr=0.001, momentum=0.9)  # Mendefinisikan optimizer sebagai Stochastic Gradient Descent (SGD) dengan learning rate 0.001 dan momentum 0.9."
      ],
      "metadata": {
        "id": "iSea8I0V5GkK"
      },
      "execution_count": 39,
      "outputs": []
    },
    {
      "cell_type": "code",
      "source": [
        "for epoch in range(2):  # Melakukan iterasi melalui dataset sebanyak 2 kali (2 epoch).\n",
        "\n",
        "    running_loss = 0.0  # Inisialisasi running loss untuk melacak loss selama pelatihan.\n",
        "    for i, data in enumerate(trainloader, 0):  # Enumerasi melalui trainloader, mendapatkan indeks dan data (inputs, labels).\n",
        "        inputs, labels = data  # Memisahkan data menjadi inputs (gambar) dan labels (kelas).\n",
        "\n",
        "        optimizer.zero_grad()  # Mengatur gradien parameter menjadi nol sebelum backward pass.\n",
        "\n",
        "        outputs = net(inputs)  # Forward pass: menghitung output dari jaringan untuk inputs.\n",
        "        loss = criterion(outputs, labels)  # Menghitung loss antara outputs dan labels yang sebenarnya.\n",
        "        loss.backward()  # Backward pass: menghitung gradien dari loss dengan menghitung backward pass.\n",
        "        optimizer.step()  # Optimizer step: memperbarui parameter jaringan berdasarkan gradien yang dihitung.\n",
        "\n",
        "        running_loss += loss.item()  # Menambahkan nilai loss saat ini ke running loss.\n",
        "        if i % 2000 == 1999:  # Setiap 2000 mini-batch (dimulai dari 0 hingga 1999), cetak statistik.\n",
        "            print(f'[{epoch + 1}, {i + 1:5d}] loss: {running_loss / 2000:.3f}')  # Cetak epoch, mini-batch, dan average loss.\n",
        "            running_loss = 0.0  # Reset running loss setelah mencetak statistik.\n",
        "\n",
        "print('Finished Training')  # Cetak pesan setelah selesai melatih model."
      ],
      "metadata": {
        "colab": {
          "base_uri": "https://localhost:8080/"
        },
        "id": "q6jcyEvG5Iz6",
        "outputId": "9ba95784-695b-4c31-e7a4-6e10872a3285"
      },
      "execution_count": 40,
      "outputs": [
        {
          "output_type": "stream",
          "name": "stdout",
          "text": [
            "[1,  2000] loss: 2.231\n",
            "[1,  4000] loss: 1.992\n",
            "[1,  6000] loss: 1.762\n",
            "[1,  8000] loss: 1.612\n",
            "[1, 10000] loss: 1.565\n",
            "[1, 12000] loss: 1.497\n",
            "[2,  2000] loss: 1.422\n",
            "[2,  4000] loss: 1.402\n",
            "[2,  6000] loss: 1.368\n",
            "[2,  8000] loss: 1.327\n",
            "[2, 10000] loss: 1.307\n",
            "[2, 12000] loss: 1.320\n",
            "Finished Training\n"
          ]
        }
      ]
    },
    {
      "cell_type": "code",
      "source": [
        "PATH = './cifar_net.pth'  # Menentukan path (lokasi dan nama file) untuk menyimpan model yang telah dilatih.\n",
        "torch.save(net.state_dict(), PATH)  # Menyimpan state dictionary dari model 'net' ke file yang ditentukan oleh 'PATH'."
      ],
      "metadata": {
        "id": "WAo1u7UJ5K0-"
      },
      "execution_count": 41,
      "outputs": []
    },
    {
      "cell_type": "code",
      "source": [
        "dataiter = iter(testloader)  # Membuat iterator untuk testloader.\n",
        "images, labels = next(dataiter)  # Mengambil satu batch data pengujian.\n",
        "\n",
        "imshow(torchvision.utils.make_grid(images))  # Menampilkan gambar-gambar dalam satu grid.\n",
        "print('GroundTruth: ', ' '.join(f'{classes[labels[j]]:5s}' for j in range(4)))  # Mencetak label yang benar."
      ],
      "metadata": {
        "colab": {
          "base_uri": "https://localhost:8080/",
          "height": 210
        },
        "id": "Abl6Dh2y5Ml6",
        "outputId": "a4462e83-cc91-4ef3-cc1f-bdd5d0015e14"
      },
      "execution_count": 42,
      "outputs": [
        {
          "output_type": "display_data",
          "data": {
            "text/plain": [
              "<Figure size 640x480 with 1 Axes>"
            ],
            "image/png": "[encoded data removed]"
          },
          "metadata": {}
        },
        {
          "output_type": "stream",
          "name": "stdout",
          "text": [
            "GroundTruth:  cat   ship  ship  plane\n"
          ]
        }
      ]
    },
    {
      "cell_type": "code",
      "source": [
        "net = Net()  # Membuat instance baru dari model.\n",
        "net.load_state_dict(torch.load(PATH))  # Memuat parameter model yang telah dilatih dari file yang disimpan."
      ],
      "metadata": {
        "colab": {
          "base_uri": "https://localhost:8080/"
        },
        "id": "6_S7b2H45OVp",
        "outputId": "7911f12d-a37d-4d8c-fe30-f15cbd7ba193"
      },
      "execution_count": 43,
      "outputs": [
        {
          "output_type": "execute_result",
          "data": {
            "text/plain": [
              "<All keys matched successfully>"
            ]
          },
          "metadata": {},
          "execution_count": 43
        }
      ]
    },
    {
      "cell_type": "code",
      "source": [
        "outputs = net(images)  # Meneruskan gambar-gambar melalui model untuk mendapatkan prediksi kelas."
      ],
      "metadata": {
        "id": "iVbSi_Yp5PxZ"
      },
      "execution_count": 44,
      "outputs": []
    },
    {
      "cell_type": "code",
      "source": [
        "_, predicted = torch.max(outputs, 1)  # Mencari kelas dengan probabilitas tertinggi untuk setiap gambar.\n",
        "print('Predicted: ', ' '.join(f'{classes[predicted[j]]:5s}'  # Mencetak kelas prediksi untuk setiap gambar.\n",
        "                              for j in range(4)))            # Mengonversi indeks kelas menjadi label kelas."
      ],
      "metadata": {
        "colab": {
          "base_uri": "https://localhost:8080/"
        },
        "id": "F3RMuWtH5RjZ",
        "outputId": "ffae0c1f-632b-4be3-d15e-3e9f4b4aa474"
      },
      "execution_count": 45,
      "outputs": [
        {
          "output_type": "stream",
          "name": "stdout",
          "text": [
            "Predicted:  cat   ship  car   ship \n"
          ]
        }
      ]
    },
    {
      "cell_type": "code",
      "source": [
        "correct = 0  # Inisialisasi jumlah prediksi yang benar.\n",
        "total = 0  # Inisialisasi jumlah total gambar yang diuji.\n",
        "\n",
        "with torch.no_grad():  # Memastikan bahwa tidak ada gradien yang dihitung karena kita hanya ingin melakukan evaluasi, bukan pelatihan.\n",
        "    for data in testloader:  # Melakukan iterasi melalui setiap batch dalam testloader.\n",
        "        images, labels = data  # Mendapatkan batch gambar dan label dari data.\n",
        "        outputs = net(images)  # Mendapatkan prediksi dari model untuk batch gambar.\n",
        "        _, predicted = torch.max(outputs.data, 1)  # Mengambil indeks kelas dengan probabilitas tertinggi sebagai prediksi.\n",
        "        total += labels.size(0)  # Menambahkan jumlah gambar dalam batch ke total gambar yang diuji.\n",
        "        correct += (predicted == labels).sum().item()  # Menambahkan jumlah prediksi yang benar.\n",
        "\n",
        "print(f'Accuracy of the network on the 10000 test images: {100 * correct // total} %')  # Mencetak akurasi dari model pada dataset pengujian."
      ],
      "metadata": {
        "colab": {
          "base_uri": "https://localhost:8080/"
        },
        "id": "gCNZNhts5TZD",
        "outputId": "8155a030-1b9a-4ed0-8f4b-368b1154e285"
      },
      "execution_count": 46,
      "outputs": [
        {
          "output_type": "stream",
          "name": "stdout",
          "text": [
            "Accuracy of the network on the 10000 test images: 53 %\n"
          ]
        }
      ]
    },
    {
      "cell_type": "code",
      "source": [
        "# Menyiapkan untuk menghitung prediksi yang benar untuk setiap kelas\n",
        "correct_pred = {classname: 0 for classname in classes}\n",
        "total_pred = {classname: 0 for classname in classes}\n",
        "\n",
        "with torch.no_grad():\n",
        "    for data in testloader:\n",
        "        images, labels = data  # Mendapatkan batch gambar dan label dari data.\n",
        "        outputs = net(images)  # Mendapatkan prediksi dari model untuk batch gambar.\n",
        "        _, predictions = torch.max(outputs, 1)  # Mengambil indeks kelas dengan probabilitas tertinggi sebagai prediksi.\n",
        "\n",
        "        # Mengumpulkan prediksi yang benar untuk setiap kelas\n",
        "        for label, prediction in zip(labels, predictions):\n",
        "            if label == prediction:  # Memeriksa apakah prediksi sama dengan label\n",
        "                correct_pred[classes[label]] += 1  # Jika benar, tambahkan ke prediksi yang benar untuk kelas tersebut\n",
        "            total_pred[classes[label]] += 1  # Tambahkan ke total prediksi untuk kelas tersebut\n",
        "\n",
        "# Mencetak akurasi untuk setiap kelas\n",
        "for classname, correct_count in correct_pred.items():\n",
        "    accuracy = 100 * float(correct_count) / total_pred[classname]  # Menghitung akurasi untuk kelas tertentu\n",
        "    print(f'Accuracy for class: {classname:5s} is {accuracy:.1f} %')  # Mencetak akurasi untuk kelas tersebut"
      ],
      "metadata": {
        "colab": {
          "base_uri": "https://localhost:8080/"
        },
        "id": "rH0bQt0N5VCq",
        "outputId": "5ffb44e8-b440-4802-a858-c318d2e2d0c6"
      },
      "execution_count": 47,
      "outputs": [
        {
          "output_type": "stream",
          "name": "stdout",
          "text": [
            "Accuracy for class: plane is 64.1 %\n",
            "Accuracy for class: car   is 71.9 %\n",
            "Accuracy for class: bird  is 26.7 %\n",
            "Accuracy for class: cat   is 17.2 %\n",
            "Accuracy for class: deer  is 45.1 %\n",
            "Accuracy for class: dog   is 36.4 %\n",
            "Accuracy for class: frog  is 84.3 %\n",
            "Accuracy for class: horse is 67.4 %\n",
            "Accuracy for class: ship  is 66.9 %\n",
            "Accuracy for class: truck is 58.9 %\n"
          ]
        }
      ]
    },
    {
      "cell_type": "code",
      "source": [
        "device = torch.device('cuda:0' if torch.cuda.is_available() else 'cpu')  # Menentukan perangkat yang akan digunakan untuk komputasi, menggunakan CUDA jika tersedia, jika tidak, menggunakan CPU.\n",
        "print(device)  # Mencetak perangkat yang digunakan untuk komputasi (CUDA jika tersedia, jika tidak, CPU)."
      ],
      "metadata": {
        "colab": {
          "base_uri": "https://localhost:8080/"
        },
        "id": "eCOMVasG5ayR",
        "outputId": "469ae9ad-5003-44b7-d294-02bf7c87db7d"
      },
      "execution_count": 48,
      "outputs": [
        {
          "output_type": "stream",
          "name": "stdout",
          "text": [
            "cpu\n"
          ]
        }
      ]
    }
  ]
}